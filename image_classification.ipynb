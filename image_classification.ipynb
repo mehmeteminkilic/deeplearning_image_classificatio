{
  "cells": [
    {
      "cell_type": "markdown",
      "metadata": {
        "id": "ob-BJe5U7FAA"
      },
      "source": [
        "## Image Classification using Pytorch"
      ]
    },
    {
      "cell_type": "code",
      "execution_count": 1,
      "metadata": {
        "id": "NBcGX34RmjK8"
      },
      "outputs": [],
      "source": [
        "import torch\n",
        "import torch.nn as nn\n",
        "\n",
        "from torch.utils.data import Dataset, DataLoader\n",
        "from torch.optim import Adam\n",
        "\n",
        "\n",
        "# Visualization tools\n",
        "import torchvision\n",
        "import torchvision.transforms.v2 as transform\n",
        "import torchvision.transforms.functional as F\n",
        "import matplotlib.pyplot as plt\n"
      ]
    },
    {
      "cell_type": "code",
      "execution_count": 2,
      "metadata": {
        "colab": {
          "base_uri": "https://localhost:8080/"
        },
        "id": "pC-QafnpnSpc",
        "outputId": "267645f5-d2df-4fee-efbc-98bb4b64ce17"
      },
      "outputs": [
        {
          "data": {
            "text/plain": [
              "True"
            ]
          },
          "execution_count": 2,
          "metadata": {},
          "output_type": "execute_result"
        }
      ],
      "source": [
        "device = torch.device('cuda' if torch.cuda.is_available() else 'cpu')\n",
        "torch.cuda.is_available()"
      ]
    },
    {
      "cell_type": "code",
      "execution_count": null,
      "metadata": {
        "colab": {
          "base_uri": "https://localhost:8080/"
        },
        "id": "IO332P__nmDP",
        "outputId": "ed140170-d74e-440c-ce16-987b432d2088"
      },
      "outputs": [],
      "source": [
        "#Loading data into Memory, use Torchvision library which provide modules containing datasets\n",
        "# We use valid_dataset, aiming to use fine_tuning to train\n",
        "\n",
        "train_dataset = torchvision.datasets.MNIST(root='./data', train=True, download=True)\n",
        "valid_dataset = torchvision.datasets.MNIST(root='./data', train=False, download=True)\n"
      ]
    },
    {
      "cell_type": "code",
      "execution_count": 4,
      "metadata": {
        "colab": {
          "base_uri": "https://localhost:8080/"
        },
        "id": "AIUhpDiLpQYy",
        "outputId": "9e49b9e6-9b40-4613-937d-d0706dd549ef"
      },
      "outputs": [
        {
          "data": {
            "text/plain": [
              "Dataset MNIST\n",
              "    Number of datapoints: 60000\n",
              "    Root location: ./data\n",
              "    Split: Train"
            ]
          },
          "execution_count": 4,
          "metadata": {},
          "output_type": "execute_result"
        }
      ],
      "source": [
        "train_dataset"
      ]
    },
    {
      "cell_type": "code",
      "execution_count": 5,
      "metadata": {
        "colab": {
          "base_uri": "https://localhost:8080/"
        },
        "id": "fcxvT9FwplmQ",
        "outputId": "33a8ead0-6914-43fe-d695-42eecec583d3"
      },
      "outputs": [
        {
          "data": {
            "text/plain": [
              "Dataset MNIST\n",
              "    Number of datapoints: 10000\n",
              "    Root location: ./data\n",
              "    Split: Test"
            ]
          },
          "execution_count": 5,
          "metadata": {},
          "output_type": "execute_result"
        }
      ],
      "source": [
        "valid_dataset"
      ]
    },
    {
      "cell_type": "code",
      "execution_count": 6,
      "metadata": {
        "id": "KnI44Pb1psn1"
      },
      "outputs": [],
      "source": [
        "x_0, y_0 = train_dataset[0]"
      ]
    },
    {
      "cell_type": "code",
      "execution_count": 7,
      "metadata": {
        "colab": {
          "base_uri": "https://localhost:8080/"
        },
        "id": "VCm8OIWlrPcp",
        "outputId": "291454f7-6444-49d2-ceba-d457dcfbcd82"
      },
      "outputs": [
        {
          "name": "stdout",
          "output_type": "stream",
          "text": [
            "<class 'PIL.Image.Image'> <class 'int'>\n"
          ]
        }
      ],
      "source": [
        "print(type(x_0), type(y_0))"
      ]
    },
    {
      "cell_type": "code",
      "execution_count": 8,
      "metadata": {
        "colab": {
          "base_uri": "https://localhost:8080/",
          "height": 45
        },
        "id": "kIP41PCoqhDn",
        "outputId": "cc8813b4-30a6-49e5-f49f-5d43a443d143"
      },
      "outputs": [
        {
          "data": {
            "image/jpeg": "[encoded data removed]",
            "image/png": "[encoded data removed]",
            "text/plain": [
              "<PIL.Image.Image image mode=L size=28x28>"
            ]
          },
          "execution_count": 8,
          "metadata": {},
          "output_type": "execute_result"
        }
      ],
      "source": [
        "x_0"
      ]
    },
    {
      "cell_type": "code",
      "execution_count": 9,
      "metadata": {
        "colab": {
          "base_uri": "https://localhost:8080/"
        },
        "id": "n3NuEjDPqsu_",
        "outputId": "007c44e5-41c3-4817-9f70-31f382203a03"
      },
      "outputs": [
        {
          "data": {
            "text/plain": [
              "5"
            ]
          },
          "execution_count": 9,
          "metadata": {},
          "output_type": "execute_result"
        }
      ],
      "source": [
        "y_0"
      ]
    },
    {
      "cell_type": "code",
      "execution_count": 10,
      "metadata": {
        "colab": {
          "base_uri": "https://localhost:8080/"
        },
        "id": "ST6lFROrrcCh",
        "outputId": "ab15691a-355f-4087-a0bd-c7e76db24585"
      },
      "outputs": [
        {
          "name": "stderr",
          "output_type": "stream",
          "text": [
            "/usr/local/lib/python3.10/dist-packages/torchvision/transforms/v2/_deprecated.py:42: UserWarning: The transform `ToTensor()` is deprecated and will be removed in a future release. Instead, please use `v2.Compose([v2.ToImage(), v2.ToDtype(torch.float32, scale=True)])`.Output is equivalent up to float precision.\n",
            "  warnings.warn(\n"
          ]
        }
      ],
      "source": [
        "#transform them to tensor format, Torchvision is useful function to convert PIL Images to tensor\n",
        "trans = transform.Compose([transform.ToTensor()])\n",
        "x_0_tensor = trans(x_0)"
      ]
    },
    {
      "cell_type": "code",
      "execution_count": 11,
      "metadata": {
        "colab": {
          "base_uri": "https://localhost:8080/"
        },
        "id": "IsBsspTXrJJs",
        "outputId": "dc107e2d-3a0f-4938-f9b1-40ec256d8a21"
      },
      "outputs": [
        {
          "data": {
            "text/plain": [
              "torch.float32"
            ]
          },
          "execution_count": 11,
          "metadata": {},
          "output_type": "execute_result"
        }
      ],
      "source": [
        "x_0_tensor.dtype"
      ]
    },
    {
      "cell_type": "code",
      "execution_count": 12,
      "metadata": {
        "colab": {
          "base_uri": "https://localhost:8080/"
        },
        "id": "MbIp4hcXsE9p",
        "outputId": "0cf1af94-e3e2-4aaa-a73a-ce83c94fc12b"
      },
      "outputs": [
        {
          "name": "stdout",
          "output_type": "stream",
          "text": [
            "tensor(0.) tensor(1.)\n"
          ]
        }
      ],
      "source": [
        "#PIL Images has a value from 0 to 255, when we convert tensor using ToTensor, the value is converted to 0 to 1\n",
        "print(x_0_tensor.min(), x_0_tensor.max())"
      ]
    },
    {
      "cell_type": "code",
      "execution_count": 13,
      "metadata": {
        "colab": {
          "base_uri": "https://localhost:8080/"
        },
        "id": "te6y4koxsnAq",
        "outputId": "bb743929-df77-4cf2-8ab2-3efe8ea7d9f3"
      },
      "outputs": [
        {
          "data": {
            "text/plain": [
              "torch.Size([1, 28, 28])"
            ]
          },
          "execution_count": 13,
          "metadata": {},
          "output_type": "execute_result"
        }
      ],
      "source": [
        "# to see the size, Pytorch use C (color) x H (height) x W (width)\n",
        "x_0_tensor.size()"
      ]
    },
    {
      "cell_type": "code",
      "execution_count": 14,
      "metadata": {
        "colab": {
          "base_uri": "https://localhost:8080/"
        },
        "id": "XhN8KoNDtAJz",
        "outputId": "03e82d83-ccae-4302-e891-99c229be9fa2"
      },
      "outputs": [
        {
          "name": "stdout",
          "output_type": "stream",
          "text": [
            "cpu\n",
            "cuda:0\n"
          ]
        }
      ],
      "source": [
        "# By default a tensor is processed with a CPU to move a GPU, use .cuda\n",
        "print(x_0_tensor.device)\n",
        "x_0_tensor_gpu = x_0_tensor.cuda()\n",
        "print(x_0_tensor_gpu.device)"
      ]
    },
    {
      "cell_type": "code",
      "execution_count": 15,
      "metadata": {
        "colab": {
          "base_uri": "https://localhost:8080/",
          "height": 447
        },
        "id": "DE1DAzLOtQrk",
        "outputId": "cf660274-6e75-4322-de9a-dc084872e956"
      },
      "outputs": [
        {
          "data": {
            "text/plain": [
              "<matplotlib.image.AxesImage at 0x781616b7e800>"
            ]
          },
          "execution_count": 15,
          "metadata": {},
          "output_type": "execute_result"
        },
        {
          "data": {
            "image/png": "[encoded data removed]",
            "text/plain": [
              "<Figure size 640x480 with 1 Axes>"
            ]
          },
          "metadata": {},
          "output_type": "display_data"
        }
      ],
      "source": [
        "# from tensor to image we can use to_pil_image\n",
        "image = F.to_pil_image(x_0_tensor)\n",
        "plt.imshow(image, cmap='gray')"
      ]
    },
    {
      "cell_type": "code",
      "execution_count": 16,
      "metadata": {
        "id": "sZsZqyE5xZh_"
      },
      "outputs": [],
      "source": [
        "#  transform to a dataset\n",
        "\n",
        "batch_size = 32\n",
        "\n",
        "train_dataset = torchvision.datasets.MNIST(root='./data', train=True, download=True, transform=trans)\n",
        "valid_dataset = torchvision.datasets.MNIST(root='./data', train=False, download=True, transform=trans)\n",
        "\n",
        "train_loader = DataLoader(train_dataset, batch_size=batch_size, shuffle=True)\n",
        "valid_loader = DataLoader(valid_dataset, batch_size=batch_size, shuffle=False) # we use batch_size in the validation data to prevent memory errors"
      ]
    },
    {
      "cell_type": "code",
      "execution_count": 17,
      "metadata": {
        "colab": {
          "base_uri": "https://localhost:8080/"
        },
        "id": "gLvsYLS7yZ2T",
        "outputId": "59b0ea55-4b90-4d44-f5e1-611daae4ce7b"
      },
      "outputs": [
        {
          "data": {
            "text/plain": [
              "[Flatten(start_dim=1, end_dim=-1),\n",
              " Linear(in_features=784, out_features=512, bias=True),\n",
              " ReLU(),\n",
              " Linear(in_features=512, out_features=512, bias=True),\n",
              " ReLU(),\n",
              " Linear(in_features=512, out_features=10, bias=True)]"
            ]
          },
          "execution_count": 17,
          "metadata": {},
          "output_type": "execute_result"
        }
      ],
      "source": [
        "# Creating model\n",
        "# 1-Step, Flatten: convert n-dimensional data into a vector\n",
        "# 2-Step, Input layer\n",
        "# 3-Step, Hidden layer\n",
        "# 4-Stepm Output layer\n",
        "\n",
        "input_size = 1 * 28 * 28\n",
        "n_classes = 10\n",
        "\n",
        "layers = [\n",
        "    nn.Flatten(),\n",
        "    nn.Linear(input_size, 512),  # Input\n",
        "    nn.ReLU(),  # Activation for input\n",
        "    nn.Linear(512, 512),  # Hidden\n",
        "    nn.ReLU(),  # Activation for hidden\n",
        "    nn.Linear(512, n_classes)  # Output\n",
        "]\n",
        "layers"
      ]
    },
    {
      "cell_type": "code",
      "execution_count": 18,
      "metadata": {
        "colab": {
          "base_uri": "https://localhost:8080/"
        },
        "id": "vQI9miZwzw6O",
        "outputId": "e3f47bf5-14fe-45ab-dca8-b6e0d387cd55"
      },
      "outputs": [
        {
          "data": {
            "text/plain": [
              "Sequential(\n",
              "  (0): Flatten(start_dim=1, end_dim=-1)\n",
              "  (1): Linear(in_features=784, out_features=512, bias=True)\n",
              "  (2): ReLU()\n",
              "  (3): Linear(in_features=512, out_features=512, bias=True)\n",
              "  (4): ReLU()\n",
              "  (5): Linear(in_features=512, out_features=10, bias=True)\n",
              ")"
            ]
          },
          "execution_count": 18,
          "metadata": {},
          "output_type": "execute_result"
        }
      ],
      "source": [
        "# Compiling the Method\n",
        "model = nn.Sequential(*layers)   #as layers are a list we need to convert it to a squence using * operator\n",
        "model"
      ]
    },
    {
      "cell_type": "code",
      "execution_count": 19,
      "metadata": {
        "colab": {
          "base_uri": "https://localhost:8080/"
        },
        "id": "7vcwDrHG2Bzb",
        "outputId": "396a58e8-9ce4-4077-fe03-a4111663bb7a"
      },
      "outputs": [
        {
          "data": {
            "text/plain": [
              "Sequential(\n",
              "  (0): Flatten(start_dim=1, end_dim=-1)\n",
              "  (1): Linear(in_features=784, out_features=512, bias=True)\n",
              "  (2): ReLU()\n",
              "  (3): Linear(in_features=512, out_features=512, bias=True)\n",
              "  (4): ReLU()\n",
              "  (5): Linear(in_features=512, out_features=10, bias=True)\n",
              ")"
            ]
          },
          "execution_count": 19,
          "metadata": {},
          "output_type": "execute_result"
        }
      ],
      "source": [
        "# when the model is first initialized, it will be processed  on a CPU. To have it process with a GPU\n",
        "\n",
        "model.to(device)"
      ]
    },
    {
      "cell_type": "code",
      "execution_count": 20,
      "metadata": {
        "colab": {
          "base_uri": "https://localhost:8080/"
        },
        "id": "5AX5sp_M2W07",
        "outputId": "7061ed3e-d6d3-4fa3-c5b6-47dca8bd23a2"
      },
      "outputs": [
        {
          "data": {
            "text/plain": [
              "device(type='cuda', index=0)"
            ]
          },
          "execution_count": 20,
          "metadata": {},
          "output_type": "execute_result"
        }
      ],
      "source": [
        "# check which device\n",
        "next(model.parameters()).device"
      ]
    },
    {
      "cell_type": "code",
      "execution_count": 21,
      "metadata": {
        "id": "mmsDVGW72hhM"
      },
      "outputs": [],
      "source": [
        "# Training Model\n",
        "# loss and optimization: Loss function will grade students, use CrossEntropy\n",
        "loss_function = nn.CrossEntropyLoss()\n",
        "optimizer = Adam(model.parameters(), lr=0.001)"
      ]
    },
    {
      "cell_type": "code",
      "execution_count": 22,
      "metadata": {
        "id": "-0g4odVt3C4_"
      },
      "outputs": [],
      "source": [
        "train_N = len(train_loader.dataset)\n",
        "valid_N = len(valid_loader.dataset)"
      ]
    },
    {
      "cell_type": "code",
      "execution_count": 23,
      "metadata": {
        "id": "C0tqSrlc3b3X"
      },
      "outputs": [],
      "source": [
        "def get_batch_accuracy(output, y, N): # Calculate the accuracy of each batch\n",
        "  pred = output.argmax(dim=1, keepdim=True)\n",
        "  correct = pred.eq(y.view_as(pred)).sum().item()\n",
        "  accuracy = correct / N\n",
        "  return accuracy"
      ]
    },
    {
      "cell_type": "code",
      "execution_count": 24,
      "metadata": {
        "id": "ieJ3vQTt4A0M"
      },
      "outputs": [],
      "source": [
        "def train():\n",
        "    loss = 0\n",
        "    accuracy = 0\n",
        "\n",
        "    model.train()\n",
        "    for x, y in train_loader:\n",
        "        x, y = x.to(device), y.to(device)\n",
        "        output = model(x)\n",
        "        optimizer.zero_grad()\n",
        "        batch_loss = loss_function(output, y)\n",
        "        batch_loss.backward()\n",
        "        optimizer.step()\n",
        "\n",
        "        loss += batch_loss.item()\n",
        "        accuracy += get_batch_accuracy(output, y, train_N)\n",
        "    print('Train - Loss: {:.4f} Accuracy: {:.4f}'.format(loss, accuracy))"
      ]
    },
    {
      "cell_type": "code",
      "execution_count": 25,
      "metadata": {
        "id": "hlhrZpKN4Lky"
      },
      "outputs": [],
      "source": [
        "def validate():\n",
        "    loss = 0\n",
        "    accuracy = 0\n",
        "\n",
        "    model.eval()\n",
        "    with torch.no_grad():\n",
        "        for x, y in valid_loader:\n",
        "            x, y = x.to(device), y.to(device)\n",
        "            output = model(x)\n",
        "\n",
        "            loss += loss_function(output, y).item()\n",
        "            accuracy += get_batch_accuracy(output, y, valid_N)\n",
        "    print('Valid - Loss: {:.4f} Accuracy: {:.4f}'.format(loss, accuracy))"
      ]
    },
    {
      "cell_type": "code",
      "execution_count": 26,
      "metadata": {
        "colab": {
          "base_uri": "https://localhost:8080/"
        },
        "id": "nBmvKbx-4NtG",
        "outputId": "68d19a1a-5f0e-4e44-cf7d-f2eda914792b"
      },
      "outputs": [
        {
          "name": "stdout",
          "output_type": "stream",
          "text": [
            "Epoch: 0\n",
            "Train - Loss: 380.1665 Accuracy: 0.9379\n",
            "Valid - Loss: 30.6875 Accuracy: 0.9698\n",
            "Epoch: 1\n",
            "Train - Loss: 164.3573 Accuracy: 0.9721\n",
            "Valid - Loss: 27.9169 Accuracy: 0.9719\n",
            "Epoch: 2\n",
            "Train - Loss: 110.9502 Accuracy: 0.9811\n",
            "Valid - Loss: 28.2778 Accuracy: 0.9728\n",
            "Epoch: 3\n",
            "Train - Loss: 81.0129 Accuracy: 0.9858\n",
            "Valid - Loss: 23.9737 Accuracy: 0.9777\n",
            "Epoch: 4\n",
            "Train - Loss: 66.6415 Accuracy: 0.9891\n",
            "Valid - Loss: 30.5697 Accuracy: 0.9747\n"
          ]
        }
      ],
      "source": [
        "epochs = 5\n",
        "\n",
        "for epoch in range(epochs):\n",
        "    print('Epoch: {}'.format(epoch))\n",
        "    train()\n",
        "    validate()"
      ]
    },
    {
      "cell_type": "code",
      "execution_count": 29,
      "metadata": {
        "id": "W7Fq4PlQ4ymo"
      },
      "outputs": [],
      "source": [
        "x_1, y_1 = train_dataset[1]"
      ]
    },
    {
      "cell_type": "code",
      "execution_count": 30,
      "metadata": {
        "colab": {
          "base_uri": "https://localhost:8080/"
        },
        "id": "SRxqFx_p4qqG",
        "outputId": "88e4d9ad-81d3-4483-d389-ee666ab92ed7"
      },
      "outputs": [
        {
          "name": "stderr",
          "output_type": "stream",
          "text": [
            "/usr/local/lib/python3.10/dist-packages/torchvision/transforms/v2/_deprecated.py:42: UserWarning: The transform `ToTensor()` is deprecated and will be removed in a future release. Instead, please use `v2.Compose([v2.ToImage(), v2.ToDtype(torch.float32, scale=True)])`.Output is equivalent up to float precision.\n",
            "  warnings.warn(\n"
          ]
        },
        {
          "data": {
            "text/plain": [
              "tensor([[ 17.0759, -19.6186,  -3.0234,  -8.8527,  -8.7486, -14.1048,  -1.8755,\n",
              "          -9.9642, -15.8566, -10.7873]], device='cuda:0',\n",
              "       grad_fn=<AddmmBackward0>)"
            ]
          },
          "execution_count": 30,
          "metadata": {},
          "output_type": "execute_result"
        }
      ],
      "source": [
        "trans = transform.Compose([transform.ToTensor()])\n",
        "x_1_tensor = trans(x_1)\n",
        "\n",
        "x_1_gpu = x_1_tensor.cuda()\n",
        "prediction = model(x_1_gpu)\n",
        "prediction"
      ]
    },
    {
      "cell_type": "code",
      "execution_count": 31,
      "metadata": {
        "colab": {
          "base_uri": "https://localhost:8080/"
        },
        "id": "jhizpGA-44RU",
        "outputId": "dcd0cf50-fa76-4fb1-b2fa-3afd5a488184"
      },
      "outputs": [
        {
          "data": {
            "text/plain": [
              "tensor([[0]], device='cuda:0')"
            ]
          },
          "execution_count": 31,
          "metadata": {},
          "output_type": "execute_result"
        }
      ],
      "source": [
        "prediction.argmax(dim=1, keepdim=True) #using argmax we can find the index of the highest value"
      ]
    },
    {
      "cell_type": "code",
      "execution_count": 32,
      "metadata": {
        "colab": {
          "base_uri": "https://localhost:8080/"
        },
        "id": "dhpcI4YO5QIN",
        "outputId": "66798236-2062-4dac-8b99-4f2ec14c310e"
      },
      "outputs": [
        {
          "data": {
            "text/plain": [
              "0"
            ]
          },
          "execution_count": 32,
          "metadata": {},
          "output_type": "execute_result"
        }
      ],
      "source": [
        "y_1"
      ]
    },
    {
      "cell_type": "markdown",
      "metadata": {
        "id": "31cQvtpI8Htc"
      },
      "source": [
        "## We now have a model that can be used to accurately detect and classify hand-written images."
      ]
    },
    {
      "cell_type": "code",
      "execution_count": null,
      "metadata": {
        "id": "8mi6m8JB8ItR"
      },
      "outputs": [],
      "source": []
    }
  ],
  "metadata": {
    "accelerator": "GPU",
    "colab": {
      "gpuType": "T4",
      "provenance": []
    },
    "kernelspec": {
      "display_name": "Python 3",
      "name": "python3"
    },
    "language_info": {
      "name": "python"
    }
  },
  "nbformat": 4,
  "nbformat_minor": 0
}
